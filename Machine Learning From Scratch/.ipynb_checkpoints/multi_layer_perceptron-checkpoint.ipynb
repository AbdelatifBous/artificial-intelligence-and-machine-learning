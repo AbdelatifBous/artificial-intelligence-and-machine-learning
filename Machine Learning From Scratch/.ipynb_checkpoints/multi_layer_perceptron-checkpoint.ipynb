{
 "cells": [
  {
   "cell_type": "markdown",
   "metadata": {},
   "source": [
    "# Multi-Layers Perceptron\n",
    "The goal of this notebook is to showcase how to code a multilayer perceptron in Python from scratch.\n",
    "It makes use of the Perceptron algorithm we developped in the perceptron jupyter notebook with modification."
   ]
  },
  {
   "cell_type": "code",
   "execution_count": 1,
   "metadata": {},
   "outputs": [],
   "source": [
    "import random\n",
    "import math\n",
    "\n",
    "class Perceptron():\n",
    "    '''\n",
    "        Perceptron Learning Algorithm that can be train using a \n",
    "        fit and predict methodology, without any library\n",
    "    '''\n",
    "    \n",
    "    def __init__(self):\n",
    "        self.weights = []\n",
    "        self.output = None\n",
    "        \n",
    "    def sigmoid(self, x):\n",
    "        return 1 / (1 + math.exp(-x))\n",
    "    \n",
    "    def dx_sigmoid(self, x):\n",
    "        sigmoid_value = self.sigmoid(x)\n",
    "        return sigmoid_value*(1 - sigmoid_value)\n",
    "    \n",
    "    def init_weights(self, num_input):\n",
    "        \n",
    "        # Randomly initalize the weights\n",
    "        for i in range(num_inpiut+1):\n",
    "            self.weights.append(random.uniform(0,1))\n",
    "        \n",
    "    def predict(self, row):\n",
    "            \n",
    "        # The activation start with the bias at weights == 0\n",
    "        activation = self.weights[0]\n",
    "        \n",
    "        # We iterate over the weights and the features in the given row\n",
    "        for weight, feature in zip(self.weights[1:], row):\n",
    "            activation = activation + weight*feature\n",
    "            \n",
    "        self.output = self.sigmoid(activation)\n",
    "        return self.output\n",
    "    \n",
    "    \n",
    "    "
   ]
  },
  {
   "cell_type": "code",
   "execution_count": null,
   "metadata": {},
   "outputs": [],
   "source": [
    "class MultiLayerPerceptron():\n",
    "    '''\n",
    "        We will be creating the multi-layer perceptron with only two layer:\n",
    "        an input layer, a perceptrons layer and a one neuron output layer which does binary classification\n",
    "    '''\n",
    "    def __init__(self, num_neuron, learning_rate = 0.01, num_iteration = 100):\n",
    "        self.perceptrons = [Perceptron() for i in range(num_neuron) # One hidden layer\n",
    "        self.output = Perceptron() # One output Neuron\n",
    "                             \n",
    "        self.learning_rate = learning_rate\n",
    "        self.num_iteration = num_iteration\n",
    "            \n",
    "    def predict(self, row):\n",
    "        \n",
    "        # Gather all the activation in the hidden layer\n",
    "        activations = [perceptron.predict(row) for perceptron in self.perceptrons]\n",
    "        activation = self.output.predict(activations)\n",
    "                            \n",
    "        if activation >= 0.5:\n",
    "            return 1.0\n",
    "        return 0.0"
   ]
  }
 ],
 "metadata": {
  "kernelspec": {
   "display_name": "Python 3",
   "language": "python",
   "name": "python3"
  },
  "language_info": {
   "codemirror_mode": {
    "name": "ipython",
    "version": 3
   },
   "file_extension": ".py",
   "mimetype": "text/x-python",
   "name": "python",
   "nbconvert_exporter": "python",
   "pygments_lexer": "ipython3",
   "version": "3.7.4"
  }
 },
 "nbformat": 4,
 "nbformat_minor": 2
}
