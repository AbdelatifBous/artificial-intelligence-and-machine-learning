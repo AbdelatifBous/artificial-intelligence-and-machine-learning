{
 "cells": [
  {
   "cell_type": "markdown",
   "metadata": {},
   "source": [
    "# Experiment 0.1 Calculate wPLI on Raw Signal\n",
    "\n",
    "**Aim:** In this experiment I will explore how I can calculate wPLI from the raw signals in the same way I did in NeuroAlgo.\n",
    "\n",
    "**Goal:** Load .set into a raw format, calculate wPLI on any part of the data and show a simple matrix plot.\n",
    "\n",
    "**Method:** I will first check if mne as wPLI capability, if not I will check if Karim Jerbi's lab has wPLI code, if not I will adapt the code I have in MATLAB into a working python code (that won't be optimized though but we can speed that up with numpy or scipy).\n",
    "\n",
    "**Conclusion:**\n"
   ]
  },
  {
   "cell_type": "markdown",
   "metadata": {},
   "source": [
    "## MNE Python API Search\n",
    "I've check the [API](https://mne.tools/stable/python_reference.html#connectivity-estimation) and found out that the connectivity measure they have is this:\n",
    "\n",
    "- degree : Compute the undirected degree of a connectivity matrix\n",
    "- envelope_correlation: Compute the envelope correlation\n",
    "- phase_slope_index: Compute the Phase Slope Index (PSI) connectivity measure\n",
    "- seed_target_indices: Generate Indices parameter for seed based connectivity analysis.\n",
    "- spectral_connectivity: Compute frequency-and time-frequency-domain connectivity measures\n",
    "\n",
    "It's a bit not clear but wPLI is actually located in the spectral_connectivity function."
   ]
  },
  {
   "cell_type": "code",
   "execution_count": 7,
   "metadata": {},
   "outputs": [
    {
     "name": "stdout",
     "output_type": "stream",
     "text": [
      "Reading WSAS07_Baseline_P3_59chan_5min.fdt\n"
     ]
    },
    {
     "name": "stderr",
     "output_type": "stream",
     "text": [
      "<ipython-input-7-bba13af1e37c>:8: RuntimeWarning: Limited 3 annotation(s) that were expanding outside the data range.\n",
      "  raw = mne.io.read_raw_eeglab(test_file)\n",
      "<ipython-input-7-bba13af1e37c>:8: RuntimeWarning: The data contains 'boundary' events, indicating data discontinuities. Be cautious of filtering and epoching around these events.\n",
      "  raw = mne.io.read_raw_eeglab(test_file)\n"
     ]
    }
   ],
   "source": [
    "%matplotlib inline\n",
    "import os\n",
    "import numpy as np\n",
    "import mne\n",
    "\n",
    "# Load the raw data\n",
    "test_file = 'WSAS07_Baseline_P3_59chan_5min.set'\n",
    "raw = mne.io.read_raw_eeglab(test_file)"
   ]
  },
  {
   "cell_type": "code",
   "execution_count": 35,
   "metadata": {},
   "outputs": [
    {
     "name": "stdout",
     "output_type": "stream",
     "text": [
      "<RawEEGLAB  |  WSAS07_Baseline_P3_59chan_5min.fdt, n_channels x n_times : 56 x 2501 (10.0 sec), ~1.2 MB, data loaded>\n"
     ]
    },
    {
     "data": {
      "text/plain": [
       "(1, 56, 2501)"
      ]
     },
     "execution_count": 35,
     "metadata": {},
     "output_type": "execute_result"
    }
   ],
   "source": [
    "# Data is not loaded by default unto disk though (data not loaded)\n",
    "print(raw)\n",
    "\n",
    "data = raw.crop(tmax=10).load_data().get_data()\n",
    "data.shape\n",
    "data = np.reshape(data,[1,56,2501])\n",
    "data.shape"
   ]
  },
  {
   "cell_type": "code",
   "execution_count": 36,
   "metadata": {},
   "outputs": [
    {
     "name": "stdout",
     "output_type": "stream",
     "text": [
      "Connectivity computation...\n",
      "only using indices for lower-triangular matrix\n",
      "    computing connectivity for 1540 connections\n",
      "    using t=0.000s..397.887s for estimation (2501 points)\n",
      "    frequencies: 0.0Hz..3.1Hz (1245 points)\n",
      "    Using multitaper spectrum estimation with 7 DPSS windows\n",
      "    the following metrics will be computed: WPLI\n",
      "    computing connectivity for epoch 1\n",
      "    assembling connectivity matrix (filling the upper triangular region of the matrix)\n",
      "[Connectivity computation done]\n"
     ]
    },
    {
     "data": {
      "text/plain": [
       "(array([[[0., 0., 0., ..., 0., 0., 0.],\n",
       "         [0., 0., 0., ..., 0., 0., 0.],\n",
       "         [0., 0., 0., ..., 0., 0., 0.],\n",
       "         ...,\n",
       "         [0., 0., 0., ..., 0., 0., 0.],\n",
       "         [0., 0., 0., ..., 0., 0., 0.],\n",
       "         [0., 0., 0., ..., 0., 0., 0.]],\n",
       " \n",
       "        [[1., 1., 1., ..., 1., 1., 1.],\n",
       "         [0., 0., 0., ..., 0., 0., 0.],\n",
       "         [0., 0., 0., ..., 0., 0., 0.],\n",
       "         ...,\n",
       "         [0., 0., 0., ..., 0., 0., 0.],\n",
       "         [0., 0., 0., ..., 0., 0., 0.],\n",
       "         [0., 0., 0., ..., 0., 0., 0.]],\n",
       " \n",
       "        [[1., 1., 1., ..., 1., 1., 1.],\n",
       "         [1., 1., 1., ..., 1., 1., 1.],\n",
       "         [0., 0., 0., ..., 0., 0., 0.],\n",
       "         ...,\n",
       "         [0., 0., 0., ..., 0., 0., 0.],\n",
       "         [0., 0., 0., ..., 0., 0., 0.],\n",
       "         [0., 0., 0., ..., 0., 0., 0.]],\n",
       " \n",
       "        ...,\n",
       " \n",
       "        [[1., 1., 1., ..., 1., 1., 1.],\n",
       "         [1., 1., 1., ..., 1., 1., 1.],\n",
       "         [1., 1., 1., ..., 1., 1., 1.],\n",
       "         ...,\n",
       "         [0., 0., 0., ..., 0., 0., 0.],\n",
       "         [0., 0., 0., ..., 0., 0., 0.],\n",
       "         [0., 0., 0., ..., 0., 0., 0.]],\n",
       " \n",
       "        [[1., 1., 1., ..., 1., 1., 1.],\n",
       "         [1., 1., 1., ..., 1., 1., 1.],\n",
       "         [1., 1., 1., ..., 1., 1., 1.],\n",
       "         ...,\n",
       "         [1., 1., 1., ..., 1., 1., 1.],\n",
       "         [0., 0., 0., ..., 0., 0., 0.],\n",
       "         [0., 0., 0., ..., 0., 0., 0.]],\n",
       " \n",
       "        [[1., 1., 1., ..., 1., 1., 1.],\n",
       "         [1., 1., 1., ..., 1., 1., 1.],\n",
       "         [1., 1., 1., ..., 1., 1., 1.],\n",
       "         ...,\n",
       "         [1., 1., 1., ..., 1., 1., 1.],\n",
       "         [1., 1., 1., ..., 1., 1., 1.],\n",
       "         [0., 0., 0., ..., 0., 0., 0.]]]),\n",
       " array([0.01507362, 0.01758588, 0.02009815, ..., 3.13531198, 3.13782425,\n",
       "        3.14033652]),\n",
       " array([0.00000000e+00, 1.59154943e-01, 3.18309886e-01, ...,\n",
       "        3.97569048e+02, 3.97728203e+02, 3.97887358e+02]),\n",
       " 1,\n",
       " None)"
      ]
     },
     "execution_count": 36,
     "metadata": {},
     "output_type": "execute_result"
    }
   ],
   "source": [
    "# (n_epochs, n_signals, n_times)\n",
    "mne.connectivity.spectral_connectivity(data,method='wpli')"
   ]
  },
  {
   "cell_type": "code",
   "execution_count": null,
   "metadata": {},
   "outputs": [],
   "source": []
  }
 ],
 "metadata": {
  "kernelspec": {
   "display_name": "Python 3",
   "language": "python",
   "name": "python3"
  },
  "language_info": {
   "codemirror_mode": {
    "name": "ipython",
    "version": 3
   },
   "file_extension": ".py",
   "mimetype": "text/x-python",
   "name": "python",
   "nbconvert_exporter": "python",
   "pygments_lexer": "ipython3",
   "version": "3.7.4"
  }
 },
 "nbformat": 4,
 "nbformat_minor": 2
}
