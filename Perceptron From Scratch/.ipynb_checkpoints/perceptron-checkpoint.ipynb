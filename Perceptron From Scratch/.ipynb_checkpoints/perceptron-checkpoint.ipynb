{
 "cells": [
  {
   "cell_type": "markdown",
   "metadata": {},
   "source": [
    "## Ressources for the perceptron\n",
    "https://towardsdatascience.com/perceptron-learning-algorithm-d5db0deab975\n",
    "\n",
    "## Goal\n",
    "Make a perceptron class that we can train with data on linear functions\n",
    "\n",
    "\n",
    "## Methods\n",
    "We have multiple input cells and one output cell that gives 0 or 1"
   ]
  },
  {
   "cell_type": "code",
   "execution_count": 70,
   "metadata": {},
   "outputs": [],
   "source": [
    "import numpy as np\n",
    "\n",
    "# Use this tutorial: https://machinelearningmastery.com/implement-perceptron-algorithm-scratch-python/\n",
    "# The guy is great, will definetly give a shoutout\n",
    "class Perceptron():\n",
    "    '''\n",
    "        Perceptron Learning Algorithm that can be train using a \n",
    "        fit and predict methodology\n",
    "    '''\n",
    "    \n",
    "    def __init__(self):\n",
    "        is_trained = False\n",
    "        self.weights = None\n",
    "        self.ouput = None\n",
    "        \n",
    "    def fit(self, X, y):\n",
    "        \n",
    "        # Error Checking\n",
    "        assert type(X) == type(np.array([])), f\"The X matrix should be a numpy array, its currently a {type(X)}\"\n",
    "        assert type(y) == type(np.array([])), f\"The y vector should be a numpy array, its currently a {type(y)}\"\n",
    "        assert len(X.shape) == 2, \"The X matrix should be two dimensional.\"\n",
    "        assert len(y.shape) == 1, \"The algorithm only work with 1 dimensional labels.\"\n",
    "        \n",
    "        (num_sample, num_feature) = X.shape\n",
    "        \n",
    "        # Randomly initalize the weights\n",
    "        self.weights = np.append(np.array([1]), np.random.rand(num_feature)) # TODO: Check if need to randomly put something as weight here, not sure its a 1\n",
    "\n",
    "        # Launch the training algorithm\n",
    "        # TODO: double check that to see how to run this until convergence (or lack of)\n",
    "        \n",
    "        \n",
    "        \n",
    "        self.is_trained = True\n",
    "        print(\"Run the learning algorithm\")\n",
    "        \n",
    "    def predict(self, X):\n",
    "        \n",
    "        # Error Checking\n",
    "        assert self.is_trained == True, \"The Perceptron needs to be trained first!\"\n",
    "        assert type(X) == type(np.array([])), f\"The X matrix should be a numpy array, its currently a {type(X)}\"\n",
    "        assert len(X.shape) == 2, \"The X matrix should be two dimensional (even for 1 observation).\"\n",
    "        num_features = len(self.weights) - 1\n",
    "        assert X.shape[1] == num_features, f\"The X matrix should have the same number of feature as during the training ({num_features} instead of {X.shape[1]})\"\n",
    "        \n",
    "        (num_sample, num_feature) = X.shape\n",
    "        print(\"Give prediction for every element in there\")\n",
    "        "
   ]
  },
  {
   "cell_type": "code",
   "execution_count": 71,
   "metadata": {},
   "outputs": [
    {
     "name": "stdout",
     "output_type": "stream",
     "text": [
      "Run the learning algorithm\n"
     ]
    }
   ],
   "source": [
    "X = np.array([[1,2,3],[1,2,3]])\n",
    "y = np.array([1,2,3])\n",
    "new_perceptron = Perceptron()\n",
    "new_perceptron.fit(X,y)"
   ]
  },
  {
   "cell_type": "code",
   "execution_count": 74,
   "metadata": {},
   "outputs": [
    {
     "name": "stdout",
     "output_type": "stream",
     "text": [
      "(4,)\n",
      "Give prediction for every element in there\n"
     ]
    }
   ],
   "source": [
    "X = np.array([[1,2,3]])\n",
    "new_perceptron.predict(X)"
   ]
  },
  {
   "cell_type": "code",
   "execution_count": null,
   "metadata": {},
   "outputs": [],
   "source": []
  },
  {
   "cell_type": "code",
   "execution_count": null,
   "metadata": {},
   "outputs": [],
   "source": []
  }
 ],
 "metadata": {
  "kernelspec": {
   "display_name": "Python 3",
   "language": "python",
   "name": "python3"
  },
  "language_info": {
   "codemirror_mode": {
    "name": "ipython",
    "version": 3
   },
   "file_extension": ".py",
   "mimetype": "text/x-python",
   "name": "python",
   "nbconvert_exporter": "python",
   "pygments_lexer": "ipython3",
   "version": "3.7.4"
  }
 },
 "nbformat": 4,
 "nbformat_minor": 2
}
